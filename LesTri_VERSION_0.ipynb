{
 "cells": [
  {
   "cell_type": "markdown",
   "metadata": {},
   "source": [
    "<h1 align=\"center\">Les algorithmes de tri </h1>\n",
    "  \n",
    "  \n",
    "  \n",
    "# 1. Tri par selection"
   ]
  },
  {
   "cell_type": "code",
   "execution_count": 1,
   "metadata": {},
   "outputs": [],
   "source": [
    "def triSelection(v):\n",
    "    for i in range(len(v)):\n",
    "        ind_min=i\n",
    "        for j in range(i+1, len(v)):\n",
    "            if(v[ind_min]>v[j]):\n",
    "                ind_min=j\n",
    "        aux=v[i]\n",
    "        v[i]=v[ind_min]\n",
    "        v[ind_min]=aux\n",
    "    return v"
   ]
  },
  {
   "cell_type": "markdown",
   "metadata": {},
   "source": [
    "<h5 style=\"color:red;\">Programme principale pour  tester le code :</h5>"
   ]
  },
  {
   "cell_type": "code",
   "execution_count": 2,
   "metadata": {},
   "outputs": [
    {
     "name": "stdout",
     "output_type": "stream",
     "text": [
      "12\n",
      "17\n",
      "15\n",
      "20\n",
      "19\n",
      "14\n",
      "10\n",
      "17\n",
      "**********\n",
      "10\n",
      "12\n",
      "14\n",
      "15\n",
      "17\n",
      "17\n",
      "19\n",
      "20\n"
     ]
    }
   ],
   "source": [
    "v=[12, 17, 15, 20, 19, 14, 10, 17]\n",
    "#Affichage de tableau non trié\n",
    "for i in range(len(v)):\n",
    "    print (\"%d\" %v[i])\n",
    "#Affichage de tableau non trié\n",
    "print (\"**********\")\n",
    "triSelection(v)\n",
    "for i in range (len(v)):\n",
    "    print (\"%d\" %v[i])"
   ]
  },
  {
   "cell_type": "markdown",
   "metadata": {},
   "source": [
    "# 2. Tri a bulles"
   ]
  },
  {
   "cell_type": "code",
   "execution_count": 3,
   "metadata": {},
   "outputs": [],
   "source": [
    "def tri_bulle(t):\n",
    "    n = len(t)\n",
    "    for i in range(n):\n",
    "        for j in range(0, n-i-1):\n",
    "            if t[j] > t[j+1] :\n",
    "                aux=t[j]\n",
    "                t[j]=t[j+1]\n",
    "                t[j+1]=aux"
   ]
  },
  {
   "cell_type": "markdown",
   "metadata": {},
   "source": [
    "<h5 style=\"color:red;\">Programme principale pour tester le code</h5>"
   ]
  },
  {
   "cell_type": "code",
   "execution_count": 4,
   "metadata": {},
   "outputs": [
    {
     "name": "stdout",
     "output_type": "stream",
     "text": [
      "Le tableau trié est:\n",
      "0\n",
      "13\n",
      "15\n",
      "19\n",
      "20\n",
      "70\n",
      "74\n",
      "99\n"
     ]
    }
   ],
   "source": [
    "t = [19, 20, 15, 13, 0, 74, 99, 70]\n",
    " \n",
    "tri_bulle(t)\n",
    " \n",
    "print (\"Le tableau trié est:\")\n",
    "for i in range(len(t)):\n",
    "    print (\"%d\" %t[i])"
   ]
  },
  {
   "cell_type": "markdown",
   "metadata": {},
   "source": [
    "# 3. Tri par selection"
   ]
  },
  {
   "cell_type": "code",
   "execution_count": 5,
   "metadata": {},
   "outputs": [],
   "source": [
    "def triInsertion(t): \n",
    "    for i in range(1, len(t)): \n",
    "        k = t[i] \n",
    "        j = i-1\n",
    "        while j >= 0 and k < t[j] : \n",
    "                t[j + 1] = t[j] \n",
    "                j -= 1\n",
    "        t[j + 1] = k"
   ]
  },
  {
   "cell_type": "markdown",
   "metadata": {},
   "source": [
    "<h5 style=\"color:red;\">Programme principale pour tester le code</h5>"
   ]
  },
  {
   "cell_type": "code",
   "execution_count": 7,
   "metadata": {},
   "outputs": [
    {
     "name": "stdout",
     "output_type": "stream",
     "text": [
      "Le tableau trié est:\n",
      " 0\n",
      " 13\n",
      " 15\n",
      " 19\n",
      " 20\n",
      " 70\n",
      " 74\n",
      " 99\n"
     ]
    }
   ],
   "source": [
    "t = [19, 20, 15, 13, 0, 74, 99, 70]\n",
    "triInsertion(t) \n",
    "print (\"Le tableau trié est:\")\n",
    "for i in range(len(t)): \n",
    "    print (\"% d\" % t[i])"
   ]
  },
  {
   "cell_type": "markdown",
   "metadata": {},
   "source": [
    "# 4.  Tri fusion"
   ]
  },
  {
   "cell_type": "code",
   "execution_count": 7,
   "metadata": {},
   "outputs": [],
   "source": [
    "def triFusion(t):\n",
    "    n=len(t)\n",
    "    if n<2:\n",
    "        return t\n",
    "    else:\n",
    "        m=n//2\n",
    "    return fusion(triFusion(t[:m]),triFusion(t[m:]))\n"
   ]
  },
  {
   "cell_type": "code",
   "execution_count": 8,
   "metadata": {},
   "outputs": [],
   "source": [
    "def fusion(t1,t2):\n",
    "    if t1==[]:\n",
    "        return t2\n",
    "    elif t2==[]:\n",
    "        return t1\n",
    "    elif t1[0]<t2[0]:\n",
    "        return [t1[0]]+fusion(t1[1:],t2)\n",
    "    else:\n",
    "        return [t2[0]]+fusion(t1,t2[1:])"
   ]
  },
  {
   "cell_type": "markdown",
   "metadata": {},
   "source": [
    "<h5 style=\"color:red;\">Programme principale pour tester le code</h5>"
   ]
  },
  {
   "cell_type": "code",
   "execution_count": 13,
   "metadata": {},
   "outputs": [
    {
     "name": "stdout",
     "output_type": "stream",
     "text": [
      "Le tableau trié est:\n",
      " 19\n",
      " 20\n",
      " 15\n",
      " 13\n",
      " 0\n",
      " 74\n",
      " 99\n",
      " 70\n"
     ]
    }
   ],
   "source": [
    "t = [19, 20, 15, 13, 0, 74, 99, 70]\n",
    "triFusion(t) \n",
    "print (\"Le tableau trié est:\")\n",
    "for i in range(len(t)): \n",
    "    print (\"% d\" % t[i])"
   ]
  },
  {
   "cell_type": "code",
   "execution_count": 10,
   "metadata": {},
   "outputs": [],
   "source": [
    "def fusion(t1,t2):\n",
    "    i1,i2,n1,n2=0,0,len(t1),len(t2)\n",
    "    t=[]\n",
    "    while i1<n1 and i2<n2:\n",
    "        if t1[i1]<t2[i2]:\n",
    "            t.append(t1[i1])\n",
    "            i1+=1\n",
    "        else:\n",
    "            t.append(t2[i2])\n",
    "            i2+=1\n",
    "        if i1==n1:\n",
    "            t.extend(t2[i2:])\n",
    "        else:\n",
    "            t.extend(t1[i1:])\n",
    "    return t\n"
   ]
  },
  {
   "cell_type": "markdown",
   "metadata": {},
   "source": [
    "# 5.  Tri rapide"
   ]
  },
  {
   "cell_type": "code",
   "execution_count": 15,
   "metadata": {},
   "outputs": [],
   "source": [
    "def triRapide(t):\n",
    "    if t == []:\n",
    "        return []\n",
    "    else:\n",
    "        pivot = t[0]\n",
    "        t1 = []\n",
    "        t2 = []\n",
    "        for x in t[1:]:\n",
    "            if x<pivot:\n",
    "                t1.append(x)\n",
    "            else:\n",
    "                t2.append(x)\n",
    "        return triRapide(t1)+[pivot]+triRapide(t2)\n"
   ]
  },
  {
   "cell_type": "markdown",
   "metadata": {},
   "source": [
    "<h5 style=\"color:red;\">Programme principale pour tester le code</h5>"
   ]
  },
  {
   "cell_type": "code",
   "execution_count": 16,
   "metadata": {},
   "outputs": [
    {
     "name": "stdout",
     "output_type": "stream",
     "text": [
      "Le tableau trié est:\n",
      " 19\n",
      " 20\n",
      " 15\n",
      " 13\n",
      " 0\n",
      " 74\n",
      " 99\n",
      " 70\n"
     ]
    }
   ],
   "source": [
    "t = [19, 20, 15, 13, 0, 74, 99, 70]\n",
    "triRapide(t) \n",
    "print (\"Le tableau trié est:\")\n",
    "for i in range(len(t)): \n",
    "    print (\"% d\" % t[i])"
   ]
  },
  {
   "cell_type": "code",
   "execution_count": null,
   "metadata": {},
   "outputs": [],
   "source": []
  }
 ],
 "metadata": {
  "kernelspec": {
   "display_name": "Python 3",
   "language": "python",
   "name": "python3"
  },
  "language_info": {
   "codemirror_mode": {
    "name": "ipython",
    "version": 3
   },
   "file_extension": ".py",
   "mimetype": "text/x-python",
   "name": "python",
   "nbconvert_exporter": "python",
   "pygments_lexer": "ipython3",
   "version": "3.7.4"
  }
 },
 "nbformat": 4,
 "nbformat_minor": 2
}
